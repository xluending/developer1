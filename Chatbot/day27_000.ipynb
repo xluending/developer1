{
 "cells": [
  {
   "cell_type": "code",
   "execution_count": 1,
   "id": "4700e056",
   "metadata": {},
   "outputs": [],
   "source": [
    "import datetime\n",
    "from datetime import datetime,date\n",
    "import pandas as pd\n",
    "import numpy as np\n",
    "import matplotlib.pyplot as plt\n",
    "pd.set_option('display.notebook_repr_html',True)\n",
    "pd.set_option('display.max_column',7)\n",
    "pd.set_option('display.max_rows',10)\n",
    "pd.set_option('display.width',250)\n",
    "%matplotlib inline"
   ]
  },
  {
   "cell_type": "code",
   "execution_count": 2,
   "id": "e7824788",
   "metadata": {},
   "outputs": [
    {
     "name": "stdout",
     "output_type": "stream",
     "text": [
      "DatetimeIndex(['2021-07-01', '2021-07-02', '2021-07-03', '2021-07-04', '2021-07-05', '2021-07-06'], dtype='datetime64[ns]', freq='D')\n",
      "<class 'pandas.core.indexes.datetimes.DatetimeIndex'>\n"
     ]
    }
   ],
   "source": [
    "dates = pd.date_range('2021-07-01','2021-07-06')\n",
    "print(dates)\n",
    "print(type(dates))"
   ]
  },
  {
   "cell_type": "code",
   "execution_count": 3,
   "id": "f36fe6f0",
   "metadata": {},
   "outputs": [],
   "source": [
    "## datetime 라는 특별한 형식의 인덱스를 생성함\n",
    "## datetime 는 날짜/시간 관련 인덱스로서 최적화된 형태의 pandas가 갖는 특별한 인덱스이다."
   ]
  },
  {
   "cell_type": "code",
   "execution_count": null,
   "id": "43c78b84",
   "metadata": {},
   "outputs": [],
   "source": []
  },
  {
   "cell_type": "code",
   "execution_count": 4,
   "id": "d0b67dcd",
   "metadata": {},
   "outputs": [
    {
     "name": "stdout",
     "output_type": "stream",
     "text": [
      "2021-07-01    80\n",
      "2021-07-02    82\n",
      "2021-07-03    85\n",
      "2021-07-04    90\n",
      "2021-07-05    83\n",
      "2021-07-06    87\n",
      "Freq: D, dtype: int64\n"
     ]
    }
   ],
   "source": [
    "# 이 소스는 위에서 만들어진 dates 라는 인덱스를 시리즈에 적용한 형태이다 \n",
    "# DatetimeIndex 의 형식을 인덱스로 사용하는 시리즈를 특별하게 시계열 이라고 한다 \n",
    "temps1 = pd.Series([80,82,85,90,83,87], index=dates)\n",
    "print(temps1)"
   ]
  },
  {
   "cell_type": "code",
   "execution_count": null,
   "id": "134a48d0",
   "metadata": {},
   "outputs": [],
   "source": []
  },
  {
   "cell_type": "code",
   "execution_count": null,
   "id": "8b919b96",
   "metadata": {},
   "outputs": [],
   "source": []
  },
  {
   "cell_type": "code",
   "execution_count": null,
   "id": "92e017c8",
   "metadata": {},
   "outputs": [],
   "source": []
  }
 ],
 "metadata": {
  "kernelspec": {
   "display_name": "Python 3",
   "language": "python",
   "name": "python3"
  },
  "language_info": {
   "codemirror_mode": {
    "name": "ipython",
    "version": 3
   },
   "file_extension": ".py",
   "mimetype": "text/x-python",
   "name": "python",
   "nbconvert_exporter": "python",
   "pygments_lexer": "ipython3",
   "version": "3.8.5"
  }
 },
 "nbformat": 4,
 "nbformat_minor": 5
}
