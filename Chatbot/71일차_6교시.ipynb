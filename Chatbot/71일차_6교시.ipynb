{
 "cells": [
  {
   "cell_type": "code",
   "execution_count": 2,
   "metadata": {},
   "outputs": [
    {
     "name": "stdout",
     "output_type": "stream",
     "text": [
      "[[2 3]\n",
      " [4 5]]\n"
     ]
    }
   ],
   "source": [
    "import numpy as np\n",
    "A = np.array([[1, 2], [3, 4]])\n",
    "B = np.array([[1, 1], [1, 1]])\n",
    "C = A + B\n",
    "print(C)"
   ]
  },
  {
   "cell_type": "code",
   "execution_count": 3,
   "metadata": {},
   "outputs": [
    {
     "name": "stdout",
     "output_type": "stream",
     "text": [
      "[[ 6  9]\n",
      " [14 21]\n",
      " [22 33]]\n"
     ]
    }
   ],
   "source": [
    "A = np.array([[1, 2], [3, 4], [5, 6]])\n",
    "B = np.array([[2, 3], [2, 3]])\n",
    "C = np.matmul(A, B)\n",
    "print(C)"
   ]
  },
  {
   "cell_type": "code",
   "execution_count": 4,
   "metadata": {},
   "outputs": [
    {
     "name": "stdout",
     "output_type": "stream",
     "text": [
      "[[10 20]\n",
      " [30 40]]\n"
     ]
    }
   ],
   "source": [
    "A = np.array([[1, 2], [3, 4]])\n",
    "k = 10\n",
    "C = k * A\n",
    "print(C)"
   ]
  },
  {
   "cell_type": "code",
   "execution_count": 5,
   "metadata": {},
   "outputs": [
    {
     "name": "stdout",
     "output_type": "stream",
     "text": [
      "0    100\n",
      "1    200\n",
      "2    300\n",
      "dtype: int64\n",
      "국어    90\n",
      "수학    80\n",
      "영어    99\n",
      "dtype: int64\n",
      "Index(['국어', '수학', '영어'], dtype='object')\n",
      "[90 80 99]\n",
      "수학 80\n"
     ]
    }
   ],
   "source": [
    "import pandas as pd\n",
    "\n",
    "# 인덱스를 생략한 시리즈 객체\n",
    "numbers = pd.Series([100, 200, 300])\n",
    "\n",
    "# 시리즈 객체 출력\n",
    "print(numbers)\n",
    "\n",
    "# 인덱스를 지정한 시리즈 객체\n",
    "scores = pd.Series([90, 80, 99], index=['국어', '수학', '영어'])\n",
    "\n",
    "# 시리즈 객체 출력\n",
    "print(scores)\n",
    "\n",
    "# 시리즈 객체의 인덱스 출력\n",
    "print(scores.index)\n",
    "\n",
    "# 시리즈 객체의 데이터값 출력\n",
    "print(scores.values)\n",
    "\n",
    "# 원하는 위치의 인덱스, 데이터값 출력\n",
    "print(scores.index[1], scores.values[1])"
   ]
  },
  {
   "cell_type": "code",
   "execution_count": 7,
   "metadata": {},
   "outputs": [
    {
     "name": "stdout",
     "output_type": "stream",
     "text": [
      "       Spring  Summer  Fall  Winter\n",
      "Seoul     3.3    34.5  14.2     -10\n",
      "Pusan     7.1    32.1  10.7       2\n",
      "==================================================\n",
      "Index(['Seoul', 'Pusan'], dtype='object')\n",
      "Index(['Spring', 'Summer', 'Fall', 'Winter'], dtype='object')\n",
      "[[  3.3  34.5  14.2 -10. ]\n",
      " [  7.1  32.1  10.7   2. ]]\n",
      "==================================================\n",
      "3.3\n",
      "==================================================\n",
      "       Spring  Summer  Fall  Winter\n",
      "Seoul     3.3    34.5  14.2     -10\n",
      "Pusan     7.1    32.1  10.7       2\n",
      "==================================================\n",
      "       Spring  Summer  Fall  Winter\n",
      "Pusan     7.1    32.1  10.7       2\n"
     ]
    }
   ],
   "source": [
    "import pandas as pd\n",
    "\n",
    "# 계절별 서울/부산 지역 온도 데이터 정의\n",
    "temperatures = [[3.3, 34.5, 14.2, -10], [7.1, 32.1, 10.7, 2]]\n",
    "seasons = ['Spring', 'Summer', 'Fall', 'Winter']\n",
    "regions = ['Seoul', 'Pusan']\n",
    "\n",
    "# 데이터프레임 객체 생성\n",
    "data = pd.DataFrame(temperatures, index=regions, columns=seasons)\n",
    "\n",
    "# 데이터프레임 객체의 데이터 출력\n",
    "print(data)\n",
    "print(\"=\" * 50) # 구분선\n",
    "print(data.index)\n",
    "print(data.columns)\n",
    "print(data.values)\n",
    "print(\"=\" * 50)\n",
    "\n",
    "# 서울의 봄 온도 데이터 출력\n",
    "print(data['Spring']['Seoul'])\n",
    "print(\"=\" * 50)\n",
    "\n",
    "# 앞부분에서 2번쨰 행까지 조회\n",
    "print(data.head(2))\n",
    "print(\"=\" * 50) # 구분선\n",
    "\n",
    "# 뒷부분에서 1번째 행까지 조회\n",
    "print(data.tail(1))"
   ]
  }
 ],
 "metadata": {
  "kernelspec": {
   "display_name": "Python 3",
   "language": "python",
   "name": "python3"
  },
  "language_info": {
   "codemirror_mode": {
    "name": "ipython",
    "version": 3
   },
   "file_extension": ".py",
   "mimetype": "text/x-python",
   "name": "python",
   "nbconvert_exporter": "python",
   "pygments_lexer": "ipython3",
   "version": "3.10.6"
  },
  "orig_nbformat": 4
 },
 "nbformat": 4,
 "nbformat_minor": 2
}
