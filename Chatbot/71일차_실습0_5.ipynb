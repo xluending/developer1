{
 "cells": [
  {
   "cell_type": "code",
   "execution_count": 1,
   "metadata": {},
   "outputs": [
    {
     "name": "stdout",
     "output_type": "stream",
     "text": [
      "ndarray 메서드의 갯수 56\n",
      "리스트 메서드의 갯수 47\n"
     ]
    }
   ],
   "source": [
    "#071일차-실습-0-5-해답.\n",
    "# ndarray의 메서드 확인 \n",
    "import numpy as np\n",
    "num1 =0\n",
    "for i in dir(np.ndarray) :\n",
    "    if not i.startswith(\"_\") :\n",
    "        if type(np.ndarray.__dict__[i]) == type(np.ndarray.var)  :\n",
    "            #print(i)\n",
    "            num1 +=1\n",
    "print('ndarray 메서드의 갯수',num1)\n",
    "\n",
    "# 리스트 클래스의 메서드 확인 \n",
    "num1=0\n",
    "for i in dir('list') :\n",
    "    if not i.startswith(\"_\") :\n",
    "        #print(i)\n",
    "        num1 +=1\n",
    "print('리스트 메서드의 갯수',num1)"
   ]
  },
  {
   "cell_type": "code",
   "execution_count": 2,
   "metadata": {},
   "outputs": [
    {
     "name": "stdout",
     "output_type": "stream",
     "text": [
      "ndarray 속성의 갯수 15\n",
      "리스트 속성의 갯수 33\n"
     ]
    }
   ],
   "source": [
    "import numpy as np\n",
    "\n",
    "# ndarray의 속성(변수) 확인 \n",
    "num1 =0\n",
    "for i in dir(np.ndarray) :\n",
    "    if not i.startswith(\"_\") :\n",
    "        if type(np.ndarray.__dict__[i]) != type(np.ndarray.var)  :\n",
    "            #print(i)\n",
    "            num1 +=1\n",
    "print('ndarray 속성의 갯수',num1)\n",
    "\n",
    "# 리스트 클래스의 속성 확인 \n",
    "num1=0\n",
    "for i in dir('list') :\n",
    "    if i.startswith(\"_\") :\n",
    "        #print(i)\n",
    "        num1 +=1\n",
    "print('리스트 속성의 갯수',num1)"
   ]
  },
  {
   "cell_type": "code",
   "execution_count": 4,
   "metadata": {},
   "outputs": [
    {
     "name": "stdout",
     "output_type": "stream",
     "text": [
      "['T', '__abs__', '__add__', '__and__', '__array__', '__array_finalize__', '__array_function__', '__array_interface__', '__array_prepare__', '__array_priority__', '__array_struct__', '__array_ufunc__', '__array_wrap__', '__bool__', '__class__', '__class_getitem__', '__complex__', '__contains__', '__copy__', '__deepcopy__', '__delattr__', '__delitem__', '__dir__', '__divmod__', '__dlpack__', '__dlpack_device__', '__doc__', '__eq__', '__float__', '__floordiv__', '__format__', '__ge__', '__getattribute__', '__getitem__', '__gt__', '__hash__', '__iadd__', '__iand__', '__ifloordiv__', '__ilshift__', '__imatmul__', '__imod__', '__imul__', '__index__', '__init__', '__init_subclass__', '__int__', '__invert__', '__ior__', '__ipow__', '__irshift__', '__isub__', '__iter__', '__itruediv__', '__ixor__', '__le__', '__len__', '__lshift__', '__lt__', '__matmul__', '__mod__', '__mul__', '__ne__', '__neg__', '__new__', '__or__', '__pos__', '__pow__', '__radd__', '__rand__', '__rdivmod__', '__reduce__', '__reduce_ex__', '__repr__', '__rfloordiv__', '__rlshift__', '__rmatmul__', '__rmod__', '__rmul__', '__ror__', '__rpow__', '__rrshift__', '__rshift__', '__rsub__', '__rtruediv__', '__rxor__', '__setattr__', '__setitem__', '__setstate__', '__sizeof__', '__str__', '__sub__', '__subclasshook__', '__truediv__', '__xor__', 'all', 'any', 'argmax', 'argmin', 'argpartition', 'argsort', 'astype', 'base', 'byteswap', 'choose', 'clip', 'compress', 'conj', 'conjugate', 'copy', 'ctypes', 'cumprod', 'cumsum', 'data', 'diagonal', 'dot', 'dtype', 'dump', 'dumps', 'fill', 'flags', 'flat', 'flatten', 'getfield', 'imag', 'item', 'itemset', 'itemsize', 'max', 'mean', 'min', 'nbytes', 'ndim', 'newbyteorder', 'nonzero', 'partition', 'prod', 'ptp', 'put', 'ravel', 'real', 'repeat', 'reshape', 'resize', 'round', 'searchsorted', 'setfield', 'setflags', 'shape', 'size', 'sort', 'squeeze', 'std', 'strides', 'sum', 'swapaxes', 'take', 'tobytes', 'tofile', 'tolist', 'tostring', 'trace', 'transpose', 'var', 'view']\n"
     ]
    }
   ],
   "source": [
    "print(dir(np.ndarray)) # __는 외부에서 받을 수 없는 비공개 함수"
   ]
  }
 ],
 "metadata": {
  "kernelspec": {
   "display_name": "Python 3",
   "language": "python",
   "name": "python3"
  },
  "language_info": {
   "codemirror_mode": {
    "name": "ipython",
    "version": 3
   },
   "file_extension": ".py",
   "mimetype": "text/x-python",
   "name": "python",
   "nbconvert_exporter": "python",
   "pygments_lexer": "ipython3",
   "version": "3.10.6"
  },
  "orig_nbformat": 4
 },
 "nbformat": 4,
 "nbformat_minor": 2
}
