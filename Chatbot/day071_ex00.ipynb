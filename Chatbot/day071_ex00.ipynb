{
 "cells": [
  {
   "cell_type": "code",
   "execution_count": null,
   "metadata": {},
   "outputs": [],
   "source": [
    "import time\n",
    "from datetime import datetime, date\n",
    "import pandas as pd \n",
    "import numpy as np\n",
    "import matplotlib.pyplot as plt"
   ]
  },
  {
   "cell_type": "code",
   "execution_count": null,
   "metadata": {},
   "outputs": [],
   "source": [
    "import numpy as np\n",
    "import time\n",
    "from datetime import datetime, date\n",
    "import pandas as pd \n",
    "import numpy as np\n",
    "import matplotlib.pyplot as plt\n",
    "#\n",
    "jumsu = {\n",
    "'홍길동' : [50,60,50],  \n",
    "'이순신' : [60,60,60],\n",
    "'강감찬' : [100,90,90],\n",
    "'유관순' : [80,80,90],\n",
    "'강환석' : [95,95,95],\n",
    "}\n",
    "s1_jumsu = pd.Series(jumsu)\n",
    "for i in s1_jumsu.index:\n",
    "    print('-' + i + '-', end='-')\n",
    "print()\n",
    "for i in s1_jumsu.values:\n",
    "    #print(i)\n",
    "    #print(type(i))\n",
    "    print( '-{:.2f}점-'.format( np.mean(i)), end='')  \n",
    "        # np는 numpy 라이브러리를 말함 np.mean()은 평균 함수임"
   ]
  },
  {
   "cell_type": "code",
   "execution_count": null,
   "metadata": {},
   "outputs": [],
   "source": [
    "# \n",
    "import numpy as np\n",
    "import pandas as pd \n",
    "#\n",
    "jumsu = {\n",
    "'홍길동' : [50,60,50],\n",
    "'이순신' : [60,60,60],\n",
    "'강감찬' : [100,90,90],\n",
    "'유관순' : [80,80,90],\n",
    "'강환석' : [95,95,95],\n",
    "}\n",
    "s1_jumsu = pd.Series(jumsu)\n",
    "for i in s1_jumsu.index:\n",
    "    print('-' + i + '-', end='-')\n",
    "print()\n",
    "for i in s1_jumsu.values:\n",
    "    print( '-{:.2f}점-'.format( np.max(i)), end='')  # np.max()은 최대값 함수임\n",
    "print()\n",
    "for i in s1_jumsu.values:\n",
    "    print( '-{:.2f}점-'.format( np.min(i)), end='')  # np.min()은 최소값 함수임"
   ]
  },
  {
   "cell_type": "code",
   "execution_count": null,
   "metadata": {},
   "outputs": [],
   "source": [
    "\n",
    "import numpy as np\n",
    "import pandas as pd \n",
    "#\n",
    "jumsu = {'홍길동' : [50,60,50],'이순동' : [60,60,60],'강감동' : [100,90,90],'유관동' : [80,80,90],\n",
    "'홍길도' : [50,45,50],'이순도' : [80,70,66],'강감도' : [64,49,50],'유관도' : [60,50,50],'홍길재' : [50,45,51],\n",
    "'이순재' : [80,70,61],'강감재' : [64,49,51],'유관재' : [60,50,51],'강환석' : [95,95,95]}\n",
    "#\n",
    "# jums딕셔너리의 쌍 중에서 밸류의 평균이 60점 미만인 것만 필터링 하여 jumsu2 딕셔너리를 생성하는 명령\n",
    "jumsu2 = dict(  {   key : round(np.mean(value),2)   for key, value  in jumsu.items() if np.mean(value)<60  } )\n",
    "                                                        # jumsu 딕셔너리의 밸류 중에서 평균이 60 미만인 것만 \n",
    "                                                        # 뽑아낸 쌍을 items() 튜플에 할당하고 \n",
    "                                                        # 튜플의 요소를 unpacking하여 key, value 라는 변수에 할당하는 for문 \n",
    "                                                        # items() 함수는 Key와 Value의 쌍을 튜플로 묶은 값을 dict_items 객체로 돌려준다\n",
    "                                                        # 이 구절에서는 튜플로 묶은 dict_items 객체를 \n",
    "                                                        # in 연산자 왼쪽의  key, value에 unpacking하였다\n",
    "                    # for 문으로 발생한 key, value를 \n",
    "                    # 각각 key와 round(np.mean(value),2)의 쌍으로 구성하고 이것을\n",
    "        # dict() 형변환 함수로 변환하여 jumsu2 딕셔너리로 생성한다.\n",
    "#\n",
    "#\n",
    "#print(type(jumsu2)) # 서비스 코드임\n",
    "#print(jumsu2)       # 서비스 코드임\n",
    "#\n",
    "jumsu3 = pd.Series(jumsu2)\n",
    "for i in jumsu3.index:\n",
    "    print(i, end=\"-\")\n",
    "print()\n",
    "for i in jumsu3:\n",
    "    print(i, end=\"--\")\n",
    "print()\n"
   ]
  },
  {
   "cell_type": "code",
   "execution_count": null,
   "metadata": {},
   "outputs": [],
   "source": [
    "# 일정한 시간을 간격으로 하는 데이터의 연속,\n",
    "# 또는 일정한 날짜를 간격으로 하는 데이터가 연속된 것이\n",
    "# 시리즈의 인덱스로 사용된 경우 이러한 인덱스를 가진 시리즈를 \n",
    "# 시계열이라고 한다."
   ]
  },
  {
   "cell_type": "code",
   "execution_count": null,
   "metadata": {},
   "outputs": [],
   "source": [
    "dates = pd.date_range('2021-07-01','2021-07-06')\n",
    "print(dates)\n",
    "print(type(dates))"
   ]
  },
  {
   "cell_type": "code",
   "execution_count": null,
   "metadata": {},
   "outputs": [],
   "source": [
    "temps1 = pd.Series([80,82,85,90,83,87], index=dates)\n",
    "temps1"
   ]
  },
  {
   "cell_type": "code",
   "execution_count": null,
   "metadata": {},
   "outputs": [],
   "source": [
    "# 이 소스는 위에서 만들어진 dates 라는 인덱스를 temps2시리즈에 적용한 형태이다 \n",
    "temps2 = pd.Series([70,75,69,83,79,77], index=dates)\n",
    "print(temps2)\n",
    "temps_diff = temps1 - temps2\n",
    "print(temps_diff)"
   ]
  },
  {
   "cell_type": "code",
   "execution_count": null,
   "metadata": {},
   "outputs": [],
   "source": [
    "# pandas에는 평균을 구하는 함수인 mean()을 자체적으로 가지고 있다 \n",
    "# 이것은 실습-2-해답에서 np.mean(value)로 표현한 numpy라이브러리의 mean() 함수와 구분된다 \n",
    "print(temps_diff.mean())\n",
    "print(type(temps_diff))"
   ]
  },
  {
   "cell_type": "code",
   "execution_count": null,
   "metadata": {},
   "outputs": [],
   "source": [
    "# 아래의 코드는 두 개의 컬럼을 갖는 Dataframe 객체 temps_df를 만든다\n",
    "# 이 데이터 프레임의 구성요소인 컬럼(세로로 길죽한것)은 위에서 만든 temps1 과 temps2의 시리즈 객체이다.\n",
    "# 위의 셀에서 언급한 것처럼 temps1과 temps2는 동일한 인덱스인 dates를 가지므로 \n",
    "# 데이터 프레임이라는 데이터 구조를 만들때 2021-07-01 부터 2021-07-06까지의 인덱스가 \n",
    "# temps1과 temps2에서 공통적으로 사용되었기에 데이터 프레임의 인덱스가 되기에 어려움이 없다(유리하다). \n",
    "temps_df = pd.DataFrame({'Missoula':temps1, 'Philadelphia':temps2})\n",
    "temps_df"
   ]
  },
  {
   "attachments": {},
   "cell_type": "markdown",
   "metadata": {},
   "source": [
    "### Pandas DataFrame의 개념 \n",
    "#### 판다스의 시리즈는 각 인덱스 레이블 당 한 개의 값(values)만 가진다.\n",
    "#### 그러나 데이터 프레임을 사용하면 인덱스 한 개당 복수개의 값을 가질 수 있다 \n",
    "#### 데이터 프레임은 인덱스 레이블을 기준으로 배열된 한 개 이상의 시리즈의 집합을 의미한다.\n",
    "#### 각 시리즈는 데이터 프레임의 컬럼(열)이며 각각의 컬럼(열)은 자신만의 이름을 갖는다.\n",
    "\n",
    "### Pandas DataFrame의 특징 \n",
    "#### 데이터 프레임은 데이터 베이스의 개념과 비슷하다.\n",
    "#### 서로다른 유형의 데이터 컬럼을 한 개 이상 갖는다는 점과, 한 컬럼의 모든 데이터는 동일한 유형이라는 점이 비슷한 점이다."
   ]
  },
  {
   "cell_type": "code",
   "execution_count": null,
   "metadata": {},
   "outputs": [],
   "source": []
  },
  {
   "cell_type": "code",
   "execution_count": null,
   "metadata": {},
   "outputs": [],
   "source": []
  },
  {
   "cell_type": "code",
   "execution_count": null,
   "metadata": {},
   "outputs": [],
   "source": []
  },
  {
   "cell_type": "code",
   "execution_count": null,
   "metadata": {},
   "outputs": [],
   "source": []
  }
 ],
 "metadata": {
  "kernelspec": {
   "display_name": "Python 3.8.5 64-bit",
   "language": "python",
   "name": "python3"
  },
  "language_info": {
   "codemirror_mode": {
    "name": "ipython",
    "version": 3
   },
   "file_extension": ".py",
   "mimetype": "text/x-python",
   "name": "python",
   "nbconvert_exporter": "python",
   "pygments_lexer": "ipython3",
   "version": "3.8.5"
  },
  "orig_nbformat": 4,
  "vscode": {
   "interpreter": {
    "hash": "0143866eb16feaab956ba86c676584b761e52ed4b6c229bd4605de1ad2212ea0"
   }
  }
 },
 "nbformat": 4,
 "nbformat_minor": 2
}
