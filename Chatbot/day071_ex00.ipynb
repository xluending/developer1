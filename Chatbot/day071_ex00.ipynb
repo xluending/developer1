{
 "cells": [
  {
   "cell_type": "code",
   "execution_count": 1,
   "metadata": {},
   "outputs": [
    {
     "ename": "ModuleNotFoundError",
     "evalue": "No module named 'matplotlib'",
     "output_type": "error",
     "traceback": [
      "\u001b[1;31m---------------------------------------------------------------------------\u001b[0m",
      "\u001b[1;31mModuleNotFoundError\u001b[0m                       Traceback (most recent call last)",
      "Cell \u001b[1;32mIn[1], line 5\u001b[0m\n\u001b[0;32m      3\u001b[0m \u001b[39mimport\u001b[39;00m \u001b[39mpandas\u001b[39;00m \u001b[39mas\u001b[39;00m \u001b[39mpd\u001b[39;00m \n\u001b[0;32m      4\u001b[0m \u001b[39mimport\u001b[39;00m \u001b[39mnumpy\u001b[39;00m \u001b[39mas\u001b[39;00m \u001b[39mnp\u001b[39;00m\n\u001b[1;32m----> 5\u001b[0m \u001b[39mimport\u001b[39;00m \u001b[39mmatplotlib\u001b[39;00m\u001b[39m.\u001b[39;00m\u001b[39mpyplot\u001b[39;00m \u001b[39mas\u001b[39;00m \u001b[39mplt\u001b[39;00m\n",
      "\u001b[1;31mModuleNotFoundError\u001b[0m: No module named 'matplotlib'"
     ]
    }
   ],
   "source": [
    "import time\n",
    "from datetime import datetime, date\n",
    "import pandas as pd \n",
    "import numpy as np\n",
    "import matplotlib.pyplot as plt"
   ]
  },
  {
   "cell_type": "code",
   "execution_count": null,
   "metadata": {},
   "outputs": [],
   "source": [
    "import numpy as np\n",
    "import time\n",
    "from datetime import datetime, date\n",
    "import pandas as pd \n",
    "import numpy as np\n",
    "import matplotlib.pyplot as plt\n",
    "#\n",
    "jumsu = {\n",
    "'홍길동' : [50,60,50],  \n",
    "'이순신' : [60,60,60],\n",
    "'강감찬' : [100,90,90],\n",
    "'유관순' : [80,80,90],\n",
    "'강환석' : [95,95,95],\n",
    "}\n",
    "s1_jumsu = pd.Series(jumsu)\n",
    "for i in s1_jumsu.index:\n",
    "    print('-' + i + '-', end='-')\n",
    "print()\n",
    "for i in s1_jumsu.values:\n",
    "    #print(i)\n",
    "    #print(type(i))\n",
    "    print( '-{:.2f}점-'.format( np.mean(i)), end='')  \n",
    "        # np는 numpy 라이브러리를 말함 np.mean()은 평균 함수임"
   ]
  },
  {
   "cell_type": "code",
   "execution_count": null,
   "metadata": {},
   "outputs": [],
   "source": [
    "# \n",
    "import numpy as np\n",
    "import pandas as pd \n",
    "#\n",
    "jumsu = {\n",
    "'홍길동' : [50,60,50],\n",
    "'이순신' : [60,60,60],\n",
    "'강감찬' : [100,90,90],\n",
    "'유관순' : [80,80,90],\n",
    "'강환석' : [95,95,95],\n",
    "}\n",
    "s1_jumsu = pd.Series(jumsu)\n",
    "for i in s1_jumsu.index:\n",
    "    print('-' + i + '-', end='-')\n",
    "print()\n",
    "for i in s1_jumsu.values:\n",
    "    print( '-{:.2f}점-'.format( np.max(i)), end='')  # np.max()은 최대값 함수임\n",
    "print()\n",
    "for i in s1_jumsu.values:\n",
    "    print( '-{:.2f}점-'.format( np.min(i)), end='')  # np.min()은 최소값 함수임"
   ]
  },
  {
   "cell_type": "code",
   "execution_count": null,
   "metadata": {},
   "outputs": [],
   "source": [
    "\n",
    "import numpy as np\n",
    "import pandas as pd \n",
    "#\n",
    "jumsu = {'홍길동' : [50,60,50],'이순동' : [60,60,60],'강감동' : [100,90,90],'유관동' : [80,80,90],\n",
    "'홍길도' : [50,45,50],'이순도' : [80,70,66],'강감도' : [64,49,50],'유관도' : [60,50,50],'홍길재' : [50,45,51],\n",
    "'이순재' : [80,70,61],'강감재' : [64,49,51],'유관재' : [60,50,51],'강환석' : [95,95,95]}\n",
    "#\n",
    "# jums딕셔너리의 쌍 중에서 밸류의 평균이 60점 미만인 것만 필터링 하여 jumsu2 딕셔너리를 생성하는 명령\n",
    "jumsu2 = dict(  {   key : round(np.mean(value),2)   for key, value  in jumsu.items() if np.mean(value)<60  } )\n",
    "                                                        # jumsu 딕셔너리의 밸류 중에서 평균이 60 미만인 것만 \n",
    "                                                        # 뽑아낸 쌍을 items() 튜플에 할당하고 \n",
    "                                                        # 튜플의 요소를 unpacking하여 key, value 라는 변수에 할당하는 for문 \n",
    "                                                        # items() 함수는 Key와 Value의 쌍을 튜플로 묶은 값을 dict_items 객체로 돌려준다\n",
    "                                                        # 이 구절에서는 튜플로 묶은 dict_items 객체를 \n",
    "                                                        # in 연산자 왼쪽의  key, value에 unpacking하였다\n",
    "                    # for 문으로 발생한 key, value를 \n",
    "                    # 각각 key와 round(np.mean(value),2)의 쌍으로 구성하고 이것을\n",
    "        # dict() 형변환 함수로 변환하여 jumsu2 딕셔너리로 생성한다.\n",
    "#\n",
    "#\n",
    "#print(type(jumsu2)) # 서비스 코드임\n",
    "#print(jumsu2)       # 서비스 코드임\n",
    "#\n",
    "jumsu3 = pd.Series(jumsu2)\n",
    "for i in jumsu3.index:\n",
    "    print(i, end=\"-\")\n",
    "print()\n",
    "for i in jumsu3:\n",
    "    print(i, end=\"--\")\n",
    "print()\n"
   ]
  },
  {
   "cell_type": "code",
   "execution_count": 2,
   "metadata": {},
   "outputs": [],
   "source": [
    "# 일정한 시간을 간격으로 하는 데이터의 연속,\n",
    "# 또는 일정한 날짜를 간격으로 하는 데이터가 연속된 것이\n",
    "# 시리즈의 인덱스로 사용된 경우 이러한 인덱스를 가진 시리즈를 \n",
    "# 시계열이라고 한다."
   ]
  },
  {
   "cell_type": "code",
   "execution_count": 3,
   "metadata": {},
   "outputs": [
    {
     "name": "stdout",
     "output_type": "stream",
     "text": [
      "DatetimeIndex(['2021-07-01', '2021-07-02', '2021-07-03', '2021-07-04',\n",
      "               '2021-07-05', '2021-07-06'],\n",
      "              dtype='datetime64[ns]', freq='D')\n",
      "<class 'pandas.core.indexes.datetimes.DatetimeIndex'>\n"
     ]
    }
   ],
   "source": [
    "dates = pd.date_range('2021-07-01','2021-07-06')\n",
    "print(dates)\n",
    "print(type(dates))"
   ]
  },
  {
   "cell_type": "code",
   "execution_count": 4,
   "metadata": {},
   "outputs": [
    {
     "data": {
      "text/plain": [
       "2021-07-01    80\n",
       "2021-07-02    82\n",
       "2021-07-03    85\n",
       "2021-07-04    90\n",
       "2021-07-05    83\n",
       "2021-07-06    87\n",
       "Freq: D, dtype: int64"
      ]
     },
     "execution_count": 4,
     "metadata": {},
     "output_type": "execute_result"
    }
   ],
   "source": [
    "temps1 = pd.Series([80,82,85,90,83,87], index=dates)\n",
    "temps1"
   ]
  },
  {
   "cell_type": "code",
   "execution_count": 5,
   "metadata": {},
   "outputs": [
    {
     "name": "stdout",
     "output_type": "stream",
     "text": [
      "2021-07-01    70\n",
      "2021-07-02    75\n",
      "2021-07-03    69\n",
      "2021-07-04    83\n",
      "2021-07-05    79\n",
      "2021-07-06    77\n",
      "Freq: D, dtype: int64\n",
      "2021-07-01    10\n",
      "2021-07-02     7\n",
      "2021-07-03    16\n",
      "2021-07-04     7\n",
      "2021-07-05     4\n",
      "2021-07-06    10\n",
      "Freq: D, dtype: int64\n"
     ]
    }
   ],
   "source": [
    "# 이 소스는 위에서 만들어진 dates 라는 인덱스를 temps2시리즈에 적용한 형태이다 \n",
    "temps2 = pd.Series([70,75,69,83,79,77], index=dates)\n",
    "print(temps2)\n",
    "temps_diff = temps1 - temps2\n",
    "print(temps_diff)"
   ]
  },
  {
   "cell_type": "code",
   "execution_count": 12,
   "metadata": {},
   "outputs": [
    {
     "data": {
      "text/plain": [
       "2021-07-01    75\n",
       "2021-07-02    77\n",
       "2021-07-03    67\n",
       "2021-07-04    82\n",
       "2021-07-05    77\n",
       "2021-07-06    85\n",
       "Freq: D, dtype: int64"
      ]
     },
     "execution_count": 12,
     "metadata": {},
     "output_type": "execute_result"
    }
   ],
   "source": [
    "# temps3 만들기\n",
    "temps3 = pd.Series([75, 77, 67, 82, 77, 85], index=dates)\n",
    "temps3"
   ]
  },
  {
   "cell_type": "code",
   "execution_count": 6,
   "metadata": {},
   "outputs": [
    {
     "name": "stdout",
     "output_type": "stream",
     "text": [
      "9.0\n",
      "<class 'pandas.core.series.Series'>\n"
     ]
    }
   ],
   "source": [
    "# pandas에는 평균을 구하는 함수인 mean()을 자체적으로 가지고 있다 \n",
    "# 이것은 실습-2-해답에서 np.mean(value)로 표현한 numpy라이브러리의 mean() 함수와 구분된다 \n",
    "print(temps_diff.mean())\n",
    "print(type(temps_diff))"
   ]
  },
  {
   "cell_type": "code",
   "execution_count": 7,
   "metadata": {},
   "outputs": [
    {
     "data": {
      "text/html": [
       "<div>\n",
       "<style scoped>\n",
       "    .dataframe tbody tr th:only-of-type {\n",
       "        vertical-align: middle;\n",
       "    }\n",
       "\n",
       "    .dataframe tbody tr th {\n",
       "        vertical-align: top;\n",
       "    }\n",
       "\n",
       "    .dataframe thead th {\n",
       "        text-align: right;\n",
       "    }\n",
       "</style>\n",
       "<table border=\"1\" class=\"dataframe\">\n",
       "  <thead>\n",
       "    <tr style=\"text-align: right;\">\n",
       "      <th></th>\n",
       "      <th>Missoula</th>\n",
       "      <th>Philadelphia</th>\n",
       "    </tr>\n",
       "  </thead>\n",
       "  <tbody>\n",
       "    <tr>\n",
       "      <th>2021-07-01</th>\n",
       "      <td>80</td>\n",
       "      <td>70</td>\n",
       "    </tr>\n",
       "    <tr>\n",
       "      <th>2021-07-02</th>\n",
       "      <td>82</td>\n",
       "      <td>75</td>\n",
       "    </tr>\n",
       "    <tr>\n",
       "      <th>2021-07-03</th>\n",
       "      <td>85</td>\n",
       "      <td>69</td>\n",
       "    </tr>\n",
       "    <tr>\n",
       "      <th>2021-07-04</th>\n",
       "      <td>90</td>\n",
       "      <td>83</td>\n",
       "    </tr>\n",
       "    <tr>\n",
       "      <th>2021-07-05</th>\n",
       "      <td>83</td>\n",
       "      <td>79</td>\n",
       "    </tr>\n",
       "    <tr>\n",
       "      <th>2021-07-06</th>\n",
       "      <td>87</td>\n",
       "      <td>77</td>\n",
       "    </tr>\n",
       "  </tbody>\n",
       "</table>\n",
       "</div>"
      ],
      "text/plain": [
       "            Missoula  Philadelphia\n",
       "2021-07-01        80            70\n",
       "2021-07-02        82            75\n",
       "2021-07-03        85            69\n",
       "2021-07-04        90            83\n",
       "2021-07-05        83            79\n",
       "2021-07-06        87            77"
      ]
     },
     "execution_count": 7,
     "metadata": {},
     "output_type": "execute_result"
    }
   ],
   "source": [
    "# 아래의 코드는 두 개의 컬럼을 갖는 Dataframe 객체 temps_df를 만든다\n",
    "# 이 데이터 프레임의 구성요소인 컬럼(세로로 길죽한것)은 위에서 만든 temps1 과 temps2의 시리즈 객체이다.\n",
    "# 위의 셀에서 언급한 것처럼 temps1과 temps2는 동일한 인덱스인 dates를 가지므로 \n",
    "# 데이터 프레임이라는 데이터 구조를 만들때 2021-07-01 부터 2021-07-06까지의 인덱스가 \n",
    "# temps1과 temps2에서 공통적으로 사용되었기에 데이터 프레임의 인덱스가 되기에 어려움이 없다(유리하다). \n",
    "temps_df = pd.DataFrame({'Missoula':temps1, 'Philadelphia':temps2})\n",
    "temps_df"
   ]
  },
  {
   "attachments": {},
   "cell_type": "markdown",
   "metadata": {},
   "source": [
    "### Pandas DataFrame의 개념 \n",
    "#### 판다스의 시리즈는 각 인덱스 레이블 당 한 개의 값(values)만 가진다.\n",
    "#### 그러나 데이터 프레임을 사용하면 인덱스 한 개당 복수개의 값을 가질 수 있다 \n",
    "#### 데이터 프레임은 인덱스 레이블을 기준으로 배열된 한 개 이상의 시리즈의 집합을 의미한다.\n",
    "#### 각 시리즈는 데이터 프레임의 컬럼(열)이며 각각의 컬럼(열)은 자신만의 이름을 갖는다.\n",
    "\n",
    "### Pandas DataFrame의 특징 \n",
    "#### 데이터 프레임은 데이터 베이스의 개념과 비슷하다.\n",
    "#### 서로다른 유형의 데이터 컬럼을 한 개 이상 갖는다는 점과, 한 컬럼의 모든 데이터는 동일한 유형이라는 점이 비슷한 점이다."
   ]
  },
  {
   "cell_type": "code",
   "execution_count": 8,
   "metadata": {},
   "outputs": [
    {
     "name": "stdout",
     "output_type": "stream",
     "text": [
      "2021-07-01    150\n",
      "2021-07-02    157\n",
      "2021-07-03    154\n",
      "2021-07-04    173\n",
      "2021-07-05    162\n",
      "2021-07-06    164\n",
      "Freq: D, dtype: int64\n"
     ]
    }
   ],
   "source": [
    "t1 = temps1\n",
    "t2 = temps2\n",
    "t3 = (t1 + t2)\n",
    "print(t3)"
   ]
  },
  {
   "cell_type": "code",
   "execution_count": 10,
   "metadata": {},
   "outputs": [
    {
     "name": "stdout",
     "output_type": "stream",
     "text": [
      "2021-07-01    5600\n",
      "2021-07-02    6150\n",
      "2021-07-03    5865\n",
      "2021-07-04    7470\n",
      "2021-07-05    6557\n",
      "2021-07-06    6699\n",
      "Freq: D, dtype: int64\n"
     ]
    }
   ],
   "source": [
    "t1 = temps1\n",
    "t2 = temps2\n",
    "# tt = np.matmul(t1, t2)\n",
    "tt = t1 * t2\n",
    "print(tt)"
   ]
  },
  {
   "cell_type": "code",
   "execution_count": 11,
   "metadata": {},
   "outputs": [
    {
     "name": "stdout",
     "output_type": "stream",
     "text": [
      "2021-07-01    1.142857\n",
      "2021-07-02    1.093333\n",
      "2021-07-03    1.231884\n",
      "2021-07-04    1.084337\n",
      "2021-07-05    1.050633\n",
      "2021-07-06    1.129870\n",
      "Freq: D, dtype: float64\n"
     ]
    }
   ],
   "source": [
    "t1 = temps1\n",
    "t2 = temps2\n",
    "ts = t1 / t2\n",
    "print(ts)"
   ]
  },
  {
   "cell_type": "code",
   "execution_count": 13,
   "metadata": {},
   "outputs": [
    {
     "data": {
      "text/html": [
       "<div>\n",
       "<style scoped>\n",
       "    .dataframe tbody tr th:only-of-type {\n",
       "        vertical-align: middle;\n",
       "    }\n",
       "\n",
       "    .dataframe tbody tr th {\n",
       "        vertical-align: top;\n",
       "    }\n",
       "\n",
       "    .dataframe thead th {\n",
       "        text-align: right;\n",
       "    }\n",
       "</style>\n",
       "<table border=\"1\" class=\"dataframe\">\n",
       "  <thead>\n",
       "    <tr style=\"text-align: right;\">\n",
       "      <th></th>\n",
       "      <th>Missoula</th>\n",
       "      <th>Philadelphia</th>\n",
       "      <th>temps3</th>\n",
       "    </tr>\n",
       "  </thead>\n",
       "  <tbody>\n",
       "    <tr>\n",
       "      <th>2021-07-01</th>\n",
       "      <td>80</td>\n",
       "      <td>70</td>\n",
       "      <td>75</td>\n",
       "    </tr>\n",
       "    <tr>\n",
       "      <th>2021-07-02</th>\n",
       "      <td>82</td>\n",
       "      <td>75</td>\n",
       "      <td>77</td>\n",
       "    </tr>\n",
       "    <tr>\n",
       "      <th>2021-07-03</th>\n",
       "      <td>85</td>\n",
       "      <td>69</td>\n",
       "      <td>67</td>\n",
       "    </tr>\n",
       "    <tr>\n",
       "      <th>2021-07-04</th>\n",
       "      <td>90</td>\n",
       "      <td>83</td>\n",
       "      <td>82</td>\n",
       "    </tr>\n",
       "    <tr>\n",
       "      <th>2021-07-05</th>\n",
       "      <td>83</td>\n",
       "      <td>79</td>\n",
       "      <td>77</td>\n",
       "    </tr>\n",
       "    <tr>\n",
       "      <th>2021-07-06</th>\n",
       "      <td>87</td>\n",
       "      <td>77</td>\n",
       "      <td>85</td>\n",
       "    </tr>\n",
       "  </tbody>\n",
       "</table>\n",
       "</div>"
      ],
      "text/plain": [
       "            Missoula  Philadelphia  temps3\n",
       "2021-07-01        80            70      75\n",
       "2021-07-02        82            75      77\n",
       "2021-07-03        85            69      67\n",
       "2021-07-04        90            83      82\n",
       "2021-07-05        83            79      77\n",
       "2021-07-06        87            77      85"
      ]
     },
     "execution_count": 13,
     "metadata": {},
     "output_type": "execute_result"
    }
   ],
   "source": [
    "# temps1, temps2, temps3 데이터프레임에 넣기\n",
    "temps_df2 = pd.DataFrame({'Missoula':temps1, 'Philadelphia':temps2, 'temps3':temps3})\n",
    "temps_df2"
   ]
  },
  {
   "cell_type": "code",
   "execution_count": 34,
   "metadata": {},
   "outputs": [
    {
     "name": "stdout",
     "output_type": "stream",
     "text": [
      "-80.00도-82.00도-85.00도-90.00도-83.00도-87.00도"
     ]
    }
   ],
   "source": [
    "df_iloc = temps_df2.iloc[:, 0]\n",
    "for i in df_iloc.values:\n",
    "    print('-{:.2f}도'.format(np.mean(i)), end='')"
   ]
  },
  {
   "cell_type": "code",
   "execution_count": null,
   "metadata": {},
   "outputs": [],
   "source": []
  }
 ],
 "metadata": {
  "kernelspec": {
   "display_name": "Python 3.8.5 64-bit",
   "language": "python",
   "name": "python3"
  },
  "language_info": {
   "codemirror_mode": {
    "name": "ipython",
    "version": 3
   },
   "file_extension": ".py",
   "mimetype": "text/x-python",
   "name": "python",
   "nbconvert_exporter": "python",
   "pygments_lexer": "ipython3",
   "version": "3.10.6"
  },
  "orig_nbformat": 4,
  "vscode": {
   "interpreter": {
    "hash": "0143866eb16feaab956ba86c676584b761e52ed4b6c229bd4605de1ad2212ea0"
   }
  }
 },
 "nbformat": 4,
 "nbformat_minor": 2
}
