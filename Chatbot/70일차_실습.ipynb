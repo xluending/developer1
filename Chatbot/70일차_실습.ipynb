{
 "cells": [
  {
   "cell_type": "code",
   "execution_count": 8,
   "metadata": {},
   "outputs": [
    {
     "name": "stdout",
     "output_type": "stream",
     "text": [
      "<class 'pandas.core.frame.DataFrame'>\n",
      "RangeIndex: 20000 entries, 0 to 19999\n",
      "Data columns (total 3 columns):\n",
      " #   Column  Non-Null Count  Dtype \n",
      "---  ------  --------------  ----- \n",
      " 0   height  20000 non-null  int64 \n",
      " 1   weight  20000 non-null  int64 \n",
      " 2   label   20000 non-null  object\n",
      "dtypes: int64(2), object(1)\n",
      "memory usage: 468.9+ KB\n",
      "None\n",
      "db error :  (2003, \"Can't connect to MySQL server on '127.0.0.1' ([WinError 10061] 대상 컴퓨터에서 연결을 거부했으므로 연결하지 못했습니다)\")\n"
     ]
    },
    {
     "ename": "NameError",
     "evalue": "name 'cursor' is not defined",
     "output_type": "error",
     "traceback": [
      "\u001b[1;31m---------------------------------------------------------------------------\u001b[0m",
      "\u001b[1;31mNameError\u001b[0m                                 Traceback (most recent call last)",
      "Cell \u001b[1;32mIn[8], line 77\u001b[0m\n\u001b[0;32m     75\u001b[0m     \u001b[39mprint\u001b[39m(\u001b[39m'\u001b[39m\u001b[39mdb error : \u001b[39m\u001b[39m'\u001b[39m, e)\n\u001b[0;32m     76\u001b[0m \u001b[39mfinally\u001b[39;00m:\n\u001b[1;32m---> 77\u001b[0m     cursor\u001b[39m.\u001b[39mclose()\n\u001b[0;32m     78\u001b[0m     conn\u001b[39m.\u001b[39mclose()\n",
      "\u001b[1;31mNameError\u001b[0m: name 'cursor' is not defined"
     ]
    }
   ],
   "source": [
    "'''\n",
    "csv -> db table\n",
    "    1차 실행 : table 생성 -> 레코드 추가\n",
    "    2차 실행 : 레코드 검색\n",
    "'''\n",
    "\n",
    "import pandas as pd\n",
    "import pymysql\n",
    "\n",
    "# (1) csv 파일 로드\n",
    "bmi = pd.read_csv(\"./data/bmi.csv\")\n",
    "print(bmi.info())\n",
    "'''\n",
    "height  20000 non-null in64 -> int\n",
    "weight  20000 non-null in64 -> int\n",
    "label   20000 non-null object -> varchar(20)\n",
    "'''\n",
    "\n",
    "# (2) 각 컬럼 추출\n",
    "height = bmi['height']\n",
    "weight = bmi['weight']\n",
    "label = bmi['label']\n",
    "\n",
    "config = {\n",
    "    'host' : '127.0.0.1',\n",
    "    'user' : 'developer1',\n",
    "    'passwd' : '0000',\n",
    "    'database' : 'work',\n",
    "    'port' : 3306,\n",
    "    'charset' : 'utf8',\n",
    "    'use_unicode' : True \n",
    "    }\n",
    "\n",
    "try :\n",
    "    conn = pymysql.connect(**config)\n",
    "    cursor = conn.cursor()\n",
    "\n",
    "    # (3) 테이블 조회\n",
    "    cursor.execute(\"show tables\")\n",
    "    tables = cursor.fetchall()\n",
    "    \n",
    "    # (4) 스위칭기법\n",
    "    sw = False\n",
    "    for table in tables :\n",
    "        if table[0] == 'bmi_tab' :\n",
    "            sw = True # table 있는 경우 swapping\n",
    "\n",
    "    # (5) table 생성\n",
    "    if not sw :\n",
    "        print('테이블 없음') # table 없으면 생성\n",
    "        sql=\"\"\"create table bmi_tab(\n",
    "        height int not null,\n",
    "        height int not null,\n",
    "        label varchar(15) not null\n",
    "        )\"\"\"\n",
    "        cursor.execute(sql)\n",
    "\n",
    "        # (6) 레코드 조회\n",
    "        cursor.execute(\"select * from bmi_tab\")\n",
    "        rows = cursor.fetchall()\n",
    "\n",
    "        if rows : # (7) 레코드 있는 경우 : 레코드 조회\n",
    "            for row in rows :\n",
    "                print(f\"{row[0]}    {row[1]}    {row[2]}\")\n",
    "            print('전체 레코드 수 : ', len(rows))\n",
    "    else : # (8) 레코드가 없는 경우 : 레코드 추가\n",
    "        print(\"100 레코드 추가\")\n",
    "        for i in range(100):\n",
    "            h = height[i]\n",
    "            w = weight[i]\n",
    "            lab = label[i]\n",
    "            cursor.execute(f\"insert into bmi_tab values({h}, {w}, '{lab}')\")\n",
    "            conn.commit()\n",
    "except Exception as e:\n",
    "    print('db error : ', e)\n",
    "finally:\n",
    "    cursor.close()\n",
    "    conn.close()"
   ]
  },
  {
   "cell_type": "code",
   "execution_count": 2,
   "metadata": {},
   "outputs": [
    {
     "ename": "NameError",
     "evalue": "name 'tables' is not defined",
     "output_type": "error",
     "traceback": [
      "\u001b[1;31m---------------------------------------------------------------------------\u001b[0m",
      "\u001b[1;31mNameError\u001b[0m                                 Traceback (most recent call last)",
      "Cell \u001b[1;32mIn[2], line 1\u001b[0m\n\u001b[1;32m----> 1\u001b[0m \u001b[39mprint\u001b[39m(\u001b[39mtype\u001b[39m(tables))\n",
      "\u001b[1;31mNameError\u001b[0m: name 'tables' is not defined"
     ]
    }
   ],
   "source": []
  }
 ],
 "metadata": {
  "kernelspec": {
   "display_name": "Python 3",
   "language": "python",
   "name": "python3"
  },
  "language_info": {
   "codemirror_mode": {
    "name": "ipython",
    "version": 3
   },
   "file_extension": ".py",
   "mimetype": "text/x-python",
   "name": "python",
   "nbconvert_exporter": "python",
   "pygments_lexer": "ipython3",
   "version": "3.10.6"
  },
  "orig_nbformat": 4
 },
 "nbformat": 4,
 "nbformat_minor": 2
}
