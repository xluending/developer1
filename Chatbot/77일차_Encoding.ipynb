{
 "cells": [
  {
   "cell_type": "code",
   "execution_count": null,
   "metadata": {},
   "outputs": [],
   "source": [
    "'''\n",
    "다. 범주형 데이터 인코딩 \n",
    "분석을 위해 사용하는 모델들은 수치형 데이터만 다룰 수 있습니다. \n",
    "따라서, String형으로 된 범주형 변수는 모델이 인식할 수 있도록 일련의 변환 과정을 거쳐야 함\n",
    "이 과정을 인코딩(Encoding)이라고 함 \n",
    "많이 사용되는 2가지의 인코딩 기법은 Label Encoding, One-Hot Encoding 의 두가지임 \n",
    "'''"
   ]
  },
  {
   "cell_type": "code",
   "execution_count": null,
   "metadata": {},
   "outputs": [],
   "source": [
    "'''\n",
    "Label Encoder\n",
    "LabelEncoder 클래스를 활용해서 카테고리형 피처를 숫자형으로 변환할 수 있음\n",
    "'''"
   ]
  },
  {
   "cell_type": "code",
   "execution_count": 4,
   "metadata": {},
   "outputs": [
    {
     "name": "stdout",
     "output_type": "stream",
     "text": [
      "인코딩 변화값 :  [0 1 4 5 3 3 2 2]\n"
     ]
    }
   ],
   "source": [
    "# 예제 1\n",
    "from sklearn.preprocessing import LabelEncoder\n",
    "items = ['TV', '냉장고', '전자레인지', '컴퓨터', '선풍기', '선풍기', '믹서', '믹서']\n",
    "en = LabelEncoder() # LabelEncoder 클래스를 객체로 생성한 후 encoder 의미의 en 참조변수 선언\n",
    "en.fit(items) # 카테고리 값 학습\n",
    "labels = en.transform(items) # 변환 대상 변환\n",
    "print('인코딩 변화값 : ', labels)"
   ]
  },
  {
   "cell_type": "code",
   "execution_count": 5,
   "metadata": {},
   "outputs": [
    {
     "name": "stdout",
     "output_type": "stream",
     "text": [
      "6\n"
     ]
    }
   ],
   "source": [
    "print(len(set(items)))"
   ]
  },
  {
   "cell_type": "code",
   "execution_count": null,
   "metadata": {},
   "outputs": [],
   "source": [
    "'''\n",
    "inverse_transform() 으로 인코딩 값을 다시 디코딩할 수 있습니다.\n",
    "'''"
   ]
  },
  {
   "cell_type": "code",
   "execution_count": null,
   "metadata": {},
   "outputs": [],
   "source": [
    "'''\n",
    "라벨 인코딩의 단점\n",
    "LabelEncoder는 일괄적인 숫자 값으로 변환이 되면서 \n",
    "몇몇 알고리즘에는 예측 성능이 떨어지는 경우가 발생함. \n",
    "변환된 숫자의 크기는 사실상 아무 의미가 없는데 \n",
    "모델은 어떤 의미가 있는 것으로 학습할 수 있기 때문임 \n",
    "때문에 회귀모델의 경우에는 성능을 떨어뜨릴 수 있음.\n",
    "'''"
   ]
  },
  {
   "cell_type": "code",
   "execution_count": 10,
   "metadata": {},
   "outputs": [
    {
     "data": {
      "text/html": [
       "<div>\n",
       "<style scoped>\n",
       "    .dataframe tbody tr th:only-of-type {\n",
       "        vertical-align: middle;\n",
       "    }\n",
       "\n",
       "    .dataframe tbody tr th {\n",
       "        vertical-align: top;\n",
       "    }\n",
       "\n",
       "    .dataframe thead th {\n",
       "        text-align: right;\n",
       "    }\n",
       "</style>\n",
       "<table border=\"1\" class=\"dataframe\">\n",
       "  <thead>\n",
       "    <tr style=\"text-align: right;\">\n",
       "      <th></th>\n",
       "      <th>Temperature</th>\n",
       "      <th>Color</th>\n",
       "      <th>Target</th>\n",
       "      <th>Temp_Label_Encoding</th>\n",
       "    </tr>\n",
       "  </thead>\n",
       "  <tbody>\n",
       "    <tr>\n",
       "      <th>0</th>\n",
       "      <td>Hot</td>\n",
       "      <td>Red</td>\n",
       "      <td>1</td>\n",
       "      <td>1</td>\n",
       "    </tr>\n",
       "    <tr>\n",
       "      <th>1</th>\n",
       "      <td>Cold</td>\n",
       "      <td>Yellow</td>\n",
       "      <td>1</td>\n",
       "      <td>0</td>\n",
       "    </tr>\n",
       "    <tr>\n",
       "      <th>2</th>\n",
       "      <td>Very Hot</td>\n",
       "      <td>Blue</td>\n",
       "      <td>1</td>\n",
       "      <td>2</td>\n",
       "    </tr>\n",
       "    <tr>\n",
       "      <th>3</th>\n",
       "      <td>Warm</td>\n",
       "      <td>Blue</td>\n",
       "      <td>0</td>\n",
       "      <td>3</td>\n",
       "    </tr>\n",
       "    <tr>\n",
       "      <th>4</th>\n",
       "      <td>Hot</td>\n",
       "      <td>Red</td>\n",
       "      <td>1</td>\n",
       "      <td>1</td>\n",
       "    </tr>\n",
       "    <tr>\n",
       "      <th>5</th>\n",
       "      <td>Warm</td>\n",
       "      <td>Yellow</td>\n",
       "      <td>0</td>\n",
       "      <td>3</td>\n",
       "    </tr>\n",
       "    <tr>\n",
       "      <th>6</th>\n",
       "      <td>Warm</td>\n",
       "      <td>Red</td>\n",
       "      <td>1</td>\n",
       "      <td>3</td>\n",
       "    </tr>\n",
       "    <tr>\n",
       "      <th>7</th>\n",
       "      <td>Hot</td>\n",
       "      <td>Yellow</td>\n",
       "      <td>0</td>\n",
       "      <td>1</td>\n",
       "    </tr>\n",
       "    <tr>\n",
       "      <th>8</th>\n",
       "      <td>Hot</td>\n",
       "      <td>Yellow</td>\n",
       "      <td>1</td>\n",
       "      <td>1</td>\n",
       "    </tr>\n",
       "    <tr>\n",
       "      <th>9</th>\n",
       "      <td>Cold</td>\n",
       "      <td>Yellow</td>\n",
       "      <td>1</td>\n",
       "      <td>0</td>\n",
       "    </tr>\n",
       "  </tbody>\n",
       "</table>\n",
       "</div>"
      ],
      "text/plain": [
       "  Temperature   Color  Target  Temp_Label_Encoding\n",
       "0         Hot     Red       1                    1\n",
       "1        Cold  Yellow       1                    0\n",
       "2    Very Hot    Blue       1                    2\n",
       "3        Warm    Blue       0                    3\n",
       "4         Hot     Red       1                    1\n",
       "5        Warm  Yellow       0                    3\n",
       "6        Warm     Red       1                    3\n",
       "7         Hot  Yellow       0                    1\n",
       "8         Hot  Yellow       1                    1\n",
       "9        Cold  Yellow       1                    0"
      ]
     },
     "execution_count": 10,
     "metadata": {},
     "output_type": "execute_result"
    }
   ],
   "source": [
    "import pandas as pd\n",
    "import numpy as np\n",
    "\n",
    "\n",
    "data = {\n",
    "\"Temperature\": [\"Hot\", \"Cold\", \"Very Hot\", \"Warm\", \"Hot\", \"Warm\", \"Warm\", \"Hot\", \"Hot\", \"Cold\"],\n",
    "\"Color\": [\"Red\", \"Yellow\", \"Blue\", \"Blue\", \"Red\", \"Yellow\", \"Red\", \"Yellow\", \"Yellow\", \"Yellow\"],\n",
    "\"Target\": [1, 1, 1, 0, 1, 0, 1, 0, 1, 1],\n",
    "\"Temp_Label_Encoding\" : [1, 0, 2, 3, 1, 3, 3, 1, 1, 0]}\n",
    "\n",
    "df = pd.DataFrame(data, columns = [\"Temperature\", \"Color\", \"Target\", \"Temp_Label_Encoding\"])\n",
    "df"
   ]
  },
  {
   "cell_type": "code",
   "execution_count": null,
   "metadata": {},
   "outputs": [],
   "source": []
  }
 ],
 "metadata": {
  "kernelspec": {
   "display_name": "Python 3",
   "language": "python",
   "name": "python3"
  },
  "language_info": {
   "codemirror_mode": {
    "name": "ipython",
    "version": 3
   },
   "file_extension": ".py",
   "mimetype": "text/x-python",
   "name": "python",
   "nbconvert_exporter": "python",
   "pygments_lexer": "ipython3",
   "version": "3.8.5"
  },
  "orig_nbformat": 4
 },
 "nbformat": 4,
 "nbformat_minor": 2
}
